{
 "cells": [
  {
   "cell_type": "code",
   "execution_count": 5,
   "metadata": {},
   "outputs": [],
   "source": [
    "import markdown\n",
    "import numpy as np\n",
    "import pandas as pd\n",
    "import matplotlib.pyplot as plt\n",
    "import os\n",
    "import re"
   ]
  },
  {
   "cell_type": "markdown",
   "metadata": {},
   "source": [
    "# Processing markdown documents into raw text"
   ]
  },
  {
   "cell_type": "code",
   "execution_count": 6,
   "metadata": {},
   "outputs": [],
   "source": [
    "def read_markdown_folder_to_df(folder_path):\n",
    "    \"\"\"\n",
    "    Reads all .md files from a given folder and returns a DataFrame\n",
    "    with 'title' (from filename) and 'content' (from file text).\n",
    "    \n",
    "    Parameters:\n",
    "        folder_path (str): Path to the folder containing .md files.\n",
    "    \n",
    "    Returns:\n",
    "        pd.DataFrame: DataFrame with columns ['title', 'content']\n",
    "    \"\"\"\n",
    "    data = []\n",
    "\n",
    "    for filename in os.listdir(folder_path):\n",
    "        if filename.endswith(\".md\"):\n",
    "            filepath = os.path.join(folder_path, filename)\n",
    "            with open(filepath, \"r\", encoding=\"utf-8\") as file:\n",
    "                content = file.read()\n",
    "            title = os.path.splitext(filename)[0]\n",
    "            data.append({\"title\": title, \"content\": content})\n",
    "\n",
    "    return pd.DataFrame(data)\n"
   ]
  },
  {
   "cell_type": "code",
   "execution_count": 7,
   "metadata": {},
   "outputs": [],
   "source": [
    "df = read_markdown_folder_to_df(\"./documents\")"
   ]
  },
  {
   "cell_type": "code",
   "execution_count": 8,
   "metadata": {},
   "outputs": [],
   "source": [
    "from bs4 import BeautifulSoup\n",
    "\n",
    "def markdown_to_text(md_content):\n",
    "    # 1. Convert markdown to HTML\n",
    "    html = markdown.markdown(md_content)\n",
    "    \n",
    "    # 2. Extract text\n",
    "    soup = BeautifulSoup(html, \"html.parser\")\n",
    "    text = soup.get_text(separator=\"\\n\")\n",
    "\n",
    "    # 3. Remove multiple newlines\n",
    "    text = re.sub(r'\\n+', '\\n', text)\n",
    "\n",
    "    # 4. Remove newline before and after colon\n",
    "    text = re.sub(r'\\n\\s*:\\s*', ': ', text)\n",
    "    text = re.sub(r':\\s*\\n', ': ', text)\n",
    "\n",
    "    # 5. Remove newline before '('\n",
    "    text = re.sub(r'\\n\\s*\\(', '(', text)\n",
    "\n",
    "    # 6. Clean extra spaces at line ends and join lines\n",
    "    lines = [line.strip() for line in text.split('\\n') if line.strip()]\n",
    "    clean_text = '\\n'.join(lines)\n",
    "\n",
    "    return clean_text\n"
   ]
  },
  {
   "cell_type": "code",
   "execution_count": 9,
   "metadata": {},
   "outputs": [],
   "source": [
    "df['content'] = df['content'].apply(markdown_to_text)"
   ]
  },
  {
   "cell_type": "code",
   "execution_count": 10,
   "metadata": {},
   "outputs": [
    {
     "data": {
      "text/html": [
       "<div>\n",
       "<style scoped>\n",
       "    .dataframe tbody tr th:only-of-type {\n",
       "        vertical-align: middle;\n",
       "    }\n",
       "\n",
       "    .dataframe tbody tr th {\n",
       "        vertical-align: top;\n",
       "    }\n",
       "\n",
       "    .dataframe thead th {\n",
       "        text-align: right;\n",
       "    }\n",
       "</style>\n",
       "<table border=\"1\" class=\"dataframe\">\n",
       "  <thead>\n",
       "    <tr style=\"text-align: right;\">\n",
       "      <th></th>\n",
       "      <th>title</th>\n",
       "      <th>content</th>\n",
       "    </tr>\n",
       "  </thead>\n",
       "  <tbody>\n",
       "    <tr>\n",
       "      <th>0</th>\n",
       "      <td>relevant_projects</td>\n",
       "      <td>Relevant Projects\\nNode.js web application for...</td>\n",
       "    </tr>\n",
       "    <tr>\n",
       "      <th>1</th>\n",
       "      <td>languages</td>\n",
       "      <td>Languages\\nEnglish\\n– Level C1\\nGerman\\n– Leve...</td>\n",
       "    </tr>\n",
       "    <tr>\n",
       "      <th>2</th>\n",
       "      <td>contact</td>\n",
       "      <td>Benedek Czotter\\nEmail: czottibeni@gmail.com\\n...</td>\n",
       "    </tr>\n",
       "    <tr>\n",
       "      <th>3</th>\n",
       "      <td>work_experience</td>\n",
       "      <td>Work experience\\nData Engineer Trainee\\nRobert...</td>\n",
       "    </tr>\n",
       "    <tr>\n",
       "      <th>4</th>\n",
       "      <td>skills</td>\n",
       "      <td>Skills\\nCurrently studying in the specializati...</td>\n",
       "    </tr>\n",
       "    <tr>\n",
       "      <th>5</th>\n",
       "      <td>certificates</td>\n",
       "      <td>Certificates\\nAWS Certified Cloud Practitioner...</td>\n",
       "    </tr>\n",
       "    <tr>\n",
       "      <th>6</th>\n",
       "      <td>education</td>\n",
       "      <td>Education\\n2017 – 2022: Zrínyi Miklós High Sch...</td>\n",
       "    </tr>\n",
       "    <tr>\n",
       "      <th>7</th>\n",
       "      <td>about_me</td>\n",
       "      <td>As a 22-year-old university student, I priorit...</td>\n",
       "    </tr>\n",
       "  </tbody>\n",
       "</table>\n",
       "</div>"
      ],
      "text/plain": [
       "               title                                            content\n",
       "0  relevant_projects  Relevant Projects\\nNode.js web application for...\n",
       "1          languages  Languages\\nEnglish\\n– Level C1\\nGerman\\n– Leve...\n",
       "2            contact  Benedek Czotter\\nEmail: czottibeni@gmail.com\\n...\n",
       "3    work_experience  Work experience\\nData Engineer Trainee\\nRobert...\n",
       "4             skills  Skills\\nCurrently studying in the specializati...\n",
       "5       certificates  Certificates\\nAWS Certified Cloud Practitioner...\n",
       "6          education  Education\\n2017 – 2022: Zrínyi Miklós High Sch...\n",
       "7           about_me  As a 22-year-old university student, I priorit..."
      ]
     },
     "execution_count": 10,
     "metadata": {},
     "output_type": "execute_result"
    }
   ],
   "source": [
    "df"
   ]
  },
  {
   "cell_type": "code",
   "execution_count": 11,
   "metadata": {},
   "outputs": [
    {
     "name": "stdout",
     "output_type": "stream",
     "text": [
      "Certificates\n",
      "AWS Certified Cloud Practitioner(issued on 08.08.2024)\n"
     ]
    }
   ],
   "source": [
    "print(df.loc[5, 'content'])"
   ]
  },
  {
   "cell_type": "markdown",
   "metadata": {},
   "source": [
    "# Embedding"
   ]
  },
  {
   "cell_type": "code",
   "execution_count": 12,
   "metadata": {},
   "outputs": [
    {
     "name": "stderr",
     "output_type": "stream",
     "text": [
      "/opt/anaconda3/envs/czb_llm/lib/python3.12/site-packages/tqdm/auto.py:21: TqdmWarning: IProgress not found. Please update jupyter and ipywidgets. See https://ipywidgets.readthedocs.io/en/stable/user_install.html\n",
      "  from .autonotebook import tqdm as notebook_tqdm\n"
     ]
    }
   ],
   "source": [
    "from sentence_transformers import SentenceTransformer"
   ]
  },
  {
   "cell_type": "code",
   "execution_count": 13,
   "metadata": {},
   "outputs": [],
   "source": [
    "model = SentenceTransformer('all-MiniLM-L6-v2')"
   ]
  },
  {
   "cell_type": "code",
   "execution_count": 14,
   "metadata": {},
   "outputs": [],
   "source": [
    "df['embedding'] = df['content'].apply(lambda x: model.encode(x))"
   ]
  },
  {
   "cell_type": "code",
   "execution_count": 15,
   "metadata": {},
   "outputs": [
    {
     "data": {
      "text/html": [
       "<div>\n",
       "<style scoped>\n",
       "    .dataframe tbody tr th:only-of-type {\n",
       "        vertical-align: middle;\n",
       "    }\n",
       "\n",
       "    .dataframe tbody tr th {\n",
       "        vertical-align: top;\n",
       "    }\n",
       "\n",
       "    .dataframe thead th {\n",
       "        text-align: right;\n",
       "    }\n",
       "</style>\n",
       "<table border=\"1\" class=\"dataframe\">\n",
       "  <thead>\n",
       "    <tr style=\"text-align: right;\">\n",
       "      <th></th>\n",
       "      <th>title</th>\n",
       "      <th>content</th>\n",
       "      <th>embedding</th>\n",
       "    </tr>\n",
       "  </thead>\n",
       "  <tbody>\n",
       "    <tr>\n",
       "      <th>0</th>\n",
       "      <td>relevant_projects</td>\n",
       "      <td>Relevant Projects\\nNode.js web application for...</td>\n",
       "      <td>[-0.08795594, -0.029305805, -0.010981977, 0.01...</td>\n",
       "    </tr>\n",
       "    <tr>\n",
       "      <th>1</th>\n",
       "      <td>languages</td>\n",
       "      <td>Languages\\nEnglish\\n– Level C1\\nGerman\\n– Leve...</td>\n",
       "      <td>[-0.030317135, -0.07237996, 0.061659515, -0.05...</td>\n",
       "    </tr>\n",
       "    <tr>\n",
       "      <th>2</th>\n",
       "      <td>contact</td>\n",
       "      <td>Benedek Czotter\\nEmail: czottibeni@gmail.com\\n...</td>\n",
       "      <td>[-0.1331627, 0.049100894, -0.008418502, -0.038...</td>\n",
       "    </tr>\n",
       "    <tr>\n",
       "      <th>3</th>\n",
       "      <td>work_experience</td>\n",
       "      <td>Work experience\\nData Engineer Trainee\\nRobert...</td>\n",
       "      <td>[-0.08950661, 0.025780125, 0.022420205, -0.020...</td>\n",
       "    </tr>\n",
       "    <tr>\n",
       "      <th>4</th>\n",
       "      <td>skills</td>\n",
       "      <td>Skills\\nCurrently studying in the specializati...</td>\n",
       "      <td>[-0.04616482, -0.07183436, 0.010111546, 0.0411...</td>\n",
       "    </tr>\n",
       "    <tr>\n",
       "      <th>5</th>\n",
       "      <td>certificates</td>\n",
       "      <td>Certificates\\nAWS Certified Cloud Practitioner...</td>\n",
       "      <td>[-0.012080462, 0.02366498, 0.012267847, 0.0002...</td>\n",
       "    </tr>\n",
       "    <tr>\n",
       "      <th>6</th>\n",
       "      <td>education</td>\n",
       "      <td>Education\\n2017 – 2022: Zrínyi Miklós High Sch...</td>\n",
       "      <td>[-0.058915474, -0.033082172, 0.07754192, 0.010...</td>\n",
       "    </tr>\n",
       "    <tr>\n",
       "      <th>7</th>\n",
       "      <td>about_me</td>\n",
       "      <td>As a 22-year-old university student, I priorit...</td>\n",
       "      <td>[0.08529875, 0.027285557, 0.02865278, -0.01366...</td>\n",
       "    </tr>\n",
       "  </tbody>\n",
       "</table>\n",
       "</div>"
      ],
      "text/plain": [
       "               title                                            content  \\\n",
       "0  relevant_projects  Relevant Projects\\nNode.js web application for...   \n",
       "1          languages  Languages\\nEnglish\\n– Level C1\\nGerman\\n– Leve...   \n",
       "2            contact  Benedek Czotter\\nEmail: czottibeni@gmail.com\\n...   \n",
       "3    work_experience  Work experience\\nData Engineer Trainee\\nRobert...   \n",
       "4             skills  Skills\\nCurrently studying in the specializati...   \n",
       "5       certificates  Certificates\\nAWS Certified Cloud Practitioner...   \n",
       "6          education  Education\\n2017 – 2022: Zrínyi Miklós High Sch...   \n",
       "7           about_me  As a 22-year-old university student, I priorit...   \n",
       "\n",
       "                                           embedding  \n",
       "0  [-0.08795594, -0.029305805, -0.010981977, 0.01...  \n",
       "1  [-0.030317135, -0.07237996, 0.061659515, -0.05...  \n",
       "2  [-0.1331627, 0.049100894, -0.008418502, -0.038...  \n",
       "3  [-0.08950661, 0.025780125, 0.022420205, -0.020...  \n",
       "4  [-0.04616482, -0.07183436, 0.010111546, 0.0411...  \n",
       "5  [-0.012080462, 0.02366498, 0.012267847, 0.0002...  \n",
       "6  [-0.058915474, -0.033082172, 0.07754192, 0.010...  \n",
       "7  [0.08529875, 0.027285557, 0.02865278, -0.01366...  "
      ]
     },
     "execution_count": 15,
     "metadata": {},
     "output_type": "execute_result"
    }
   ],
   "source": [
    "df"
   ]
  },
  {
   "cell_type": "code",
   "execution_count": 16,
   "metadata": {},
   "outputs": [
    {
     "data": {
      "text/plain": [
       "384"
      ]
     },
     "execution_count": 16,
     "metadata": {},
     "output_type": "execute_result"
    }
   ],
   "source": [
    "len(df.loc[0, 'embedding'])"
   ]
  },
  {
   "cell_type": "markdown",
   "metadata": {},
   "source": [
    "# Getting keywords"
   ]
  },
  {
   "cell_type": "code",
   "execution_count": 19,
   "metadata": {},
   "outputs": [],
   "source": [
    "from keybert import KeyBERT"
   ]
  },
  {
   "cell_type": "code",
   "execution_count": 20,
   "metadata": {},
   "outputs": [],
   "source": [
    "kw_model = KeyBERT(\"all-MiniLM-L6-v2\")"
   ]
  },
  {
   "cell_type": "code",
   "execution_count": 21,
   "metadata": {},
   "outputs": [],
   "source": [
    "def extract_keywords_keybert(text, top_n=10):\n",
    "    keywords = kw_model.extract_keywords(text, keyphrase_ngram_range=(1, 1), stop_words='english', top_n=top_n)\n",
    "    return [kw for kw, score in keywords]"
   ]
  },
  {
   "cell_type": "code",
   "execution_count": 22,
   "metadata": {},
   "outputs": [],
   "source": [
    "df[\"keywords\"] = df[\"content\"].apply(lambda x: extract_keywords_keybert(x))"
   ]
  },
  {
   "cell_type": "code",
   "execution_count": 23,
   "metadata": {},
   "outputs": [
    {
     "data": {
      "text/plain": [
       "['mongodb',\n",
       " 'node',\n",
       " 'dataset',\n",
       " 'middleware',\n",
       " 'forecasting',\n",
       " 'data',\n",
       " 'prediction',\n",
       " 'loan',\n",
       " 'pet',\n",
       " 'clustering']"
      ]
     },
     "execution_count": 23,
     "metadata": {},
     "output_type": "execute_result"
    }
   ],
   "source": [
    "df.loc[0, 'keywords']"
   ]
  },
  {
   "cell_type": "code",
   "execution_count": null,
   "metadata": {},
   "outputs": [],
   "source": []
  },
  {
   "cell_type": "code",
   "execution_count": null,
   "metadata": {},
   "outputs": [],
   "source": []
  },
  {
   "cell_type": "markdown",
   "metadata": {},
   "source": [
    "# Practice returning the best document for given question"
   ]
  },
  {
   "cell_type": "code",
   "execution_count": 24,
   "metadata": {},
   "outputs": [],
   "source": [
    "from sklearn.metrics.pairwise import cosine_similarity"
   ]
  },
  {
   "cell_type": "code",
   "execution_count": 25,
   "metadata": {},
   "outputs": [],
   "source": [
    "def retrieve_most_relevant(query: str, df):\n",
    "    # Step 1: Embed the query\n",
    "    query_embedding = model.encode([query])[0]  # shape: (dim,)\n",
    "    \n",
    "    # Step 2: Compute cosine similarities\n",
    "    doc_embeddings = np.vstack(df['embedding'].values)\n",
    "    similarities = cosine_similarity([query_embedding], doc_embeddings)[0]\n",
    "    \n",
    "    # Step 3: Find the index of the most similar document\n",
    "    best_idx = np.argmax(similarities)\n",
    "    \n",
    "    # Step 4: Return the most relevant row\n",
    "    return df.iloc[best_idx]"
   ]
  },
  {
   "cell_type": "code",
   "execution_count": 26,
   "metadata": {},
   "outputs": [],
   "source": [
    "query = \"school\""
   ]
  },
  {
   "cell_type": "code",
   "execution_count": 27,
   "metadata": {},
   "outputs": [
    {
     "name": "stdout",
     "output_type": "stream",
     "text": [
      "Title: education\n",
      "Content: Education\n",
      "2017 – 2022: Zrínyi Miklós High School, Zalaegerszeg\n",
      "2022 – Present: Budapest University of Technology and Economics\n",
      "Faculty of Electrical Engineering and Informatics, Computer Science Engineering major\n",
      "Currently writing my thesis about the segmentation of time series with ensemble models.\n"
     ]
    }
   ],
   "source": [
    "result = retrieve_most_relevant(query, df)\n",
    "\n",
    "print(\"Title:\", result['title'])\n",
    "print(\"Content:\", result['content'])"
   ]
  },
  {
   "cell_type": "code",
   "execution_count": null,
   "metadata": {},
   "outputs": [],
   "source": []
  },
  {
   "cell_type": "code",
   "execution_count": null,
   "metadata": {},
   "outputs": [],
   "source": []
  },
  {
   "cell_type": "code",
   "execution_count": null,
   "metadata": {},
   "outputs": [],
   "source": []
  },
  {
   "cell_type": "code",
   "execution_count": null,
   "metadata": {},
   "outputs": [],
   "source": []
  }
 ],
 "metadata": {
  "kernelspec": {
   "display_name": "czb_llm",
   "language": "python",
   "name": "python3"
  },
  "language_info": {
   "codemirror_mode": {
    "name": "ipython",
    "version": 3
   },
   "file_extension": ".py",
   "mimetype": "text/x-python",
   "name": "python",
   "nbconvert_exporter": "python",
   "pygments_lexer": "ipython3",
   "version": "3.12.11"
  }
 },
 "nbformat": 4,
 "nbformat_minor": 2
}
